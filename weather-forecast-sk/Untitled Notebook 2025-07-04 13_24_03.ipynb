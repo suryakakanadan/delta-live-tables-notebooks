{
 "cells": [
  {
   "cell_type": "code",
   "execution_count": 0,
   "metadata": {
    "application/vnd.databricks.v1+cell": {
     "cellMetadata": {
      "byteLimit": 2048000,
      "rowLimit": 10000
     },
     "inputWidgets": {},
     "nuid": "798a457b-e418-4e05-aad1-5ce4d3955bd3",
     "showTitle": false,
     "tableResultSettingsMap": {},
     "title": ""
    }
   },
   "outputs": [],
   "source": [
    "%python\n",
    "from pyspark.sql.functions import col, lit, rand, round\n",
    "from pyspark.sql.types import StructType, StructField, StringType, DoubleType, DateType\n",
    "from datetime import date, timedelta\n",
    "\n",
    "# Define schema\n",
    "schema = StructType([\n",
    "    StructField(\"city\", StringType(), True),\n",
    "    StructField(\"date\", DateType(), True),\n",
    "    StructField(\"temperature\", DoubleType(), True),\n",
    "    StructField(\"humidity\", DoubleType(), True),\n",
    "    StructField(\"wind_speed\", DoubleType(), True)\n",
    "])\n",
    "\n",
    "# List of cities\n",
    "cities = [\"New York\", \"Los Angeles\", \"Chicago\", \"Houston\", \"Phoenix\"]\n",
    "\n",
    "# Generate date range\n",
    "start_date = date(2025, 7, 4)\n",
    "date_range = [start_date + timedelta(days=x) for x in range(30)]\n",
    "\n",
    "# Create initial DataFrame\n",
    "data = [(city, d, None, None, None) for city in cities for d in date_range]\n",
    "df = spark.createDataFrame(data, schema)\n",
    "\n",
    "# Add random weather data\n",
    "df = df.withColumn(\"temperature\", round((rand() * 40) - 10, 2)) \\\n",
    "       .withColumn(\"humidity\", round(rand() * 100, 2)) \\\n",
    "       .withColumn(\"wind_speed\", round(rand() * 15, 2))\n",
    "\n",
    "df_top5 = df.limit(5)\n",
    "display(df_top5)\n",
    "# Create database\n",
    "spark.sql(\"CREATE DATABASE IF NOT EXISTS weatherdata\")\n",
    "\n",
    "# Write DataFrame to table in the specified catalog and database\n",
    "df.write.mode(\"overwrite\").saveAsTable(\"Analytics1.weatherdata.weather_history\")\n",
    "\n",
    "# Grant access to 'developers' group\n",
    "# spark.sql(\"GRANT ALL PRIVILEGES ON DATABASE weatherdata TO `developers`\")\n",
    "# spark.sql(\"GRANT ALL PRIVILEGES ON TABLE weatherdata.weather_history TO `developers`\")"
   ]
  },
  {
   "cell_type": "code",
   "execution_count": 0,
   "metadata": {
    "application/vnd.databricks.v1+cell": {
     "cellMetadata": {
      "byteLimit": 2048000,
      "rowLimit": 10000
     },
     "inputWidgets": {},
     "nuid": "66265584-e3e7-4bef-814e-7088e6168511",
     "showTitle": false,
     "tableResultSettingsMap": {},
     "title": ""
    }
   },
   "outputs": [],
   "source": [
    "SHOW GRANTS ON SCHEMA analytics1.weatherdata;"
   ]
  },
  {
   "cell_type": "code",
   "execution_count": 0,
   "metadata": {
    "application/vnd.databricks.v1+cell": {
     "cellMetadata": {
      "byteLimit": 2048000,
      "rowLimit": 10000
     },
     "inputWidgets": {},
     "nuid": "786f3a9d-1506-49e8-9382-2ddef337dee6",
     "showTitle": false,
     "tableResultSettingsMap": {},
     "title": ""
    }
   },
   "outputs": [],
   "source": [
    "  GRANT CREATE TABLE ON SCHEMA analytics1.weatherdata TO `developers`;\n",
    "  GRANT USE SCHEMA ON SCHEMA analytics1.weatherdata TO `developers`;\n",
    "  GRANT USE CATALOG ON CATALOG analytics1 TO `developers`;"
   ]
  },
  {
   "cell_type": "code",
   "execution_count": 0,
   "metadata": {
    "application/vnd.databricks.v1+cell": {
     "cellMetadata": {},
     "inputWidgets": {},
     "nuid": "e38fc88a-bcd8-4c34-aa22-0d374cd17289",
     "showTitle": false,
     "tableResultSettingsMap": {},
     "title": ""
    }
   },
   "outputs": [],
   "source": []
  }
 ],
 "metadata": {
  "application/vnd.databricks.v1+notebook": {
   "computePreferences": null,
   "dashboards": [],
   "environmentMetadata": {
    "base_environment": "",
    "environment_version": "2"
   },
   "inputWidgetPreferences": null,
   "language": "sql",
   "notebookMetadata": {
    "pythonIndentUnit": 4
   },
   "notebookName": "Untitled Notebook 2025-07-04 13_24_03",
   "widgets": {}
  },
  "language_info": {
   "name": "sql"
  }
 },
 "nbformat": 4,
 "nbformat_minor": 0
}
