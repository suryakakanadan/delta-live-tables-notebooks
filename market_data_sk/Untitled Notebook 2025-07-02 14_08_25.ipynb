{
 "cells": [
  {
   "cell_type": "code",
   "execution_count": 0,
   "metadata": {
    "application/vnd.databricks.v1+cell": {
     "cellMetadata": {
      "byteLimit": 2048000,
      "implicitDf": true,
      "rowLimit": 10000
     },
     "inputWidgets": {},
     "nuid": "422a1ca7-9dd8-48b4-aa87-70ee9a1fd21b",
     "showTitle": false,
     "tableResultSettingsMap": {},
     "title": ""
    }
   },
   "outputs": [],
   "source": [
    "%sql\n",
    "-- CREATE GROUP developers;\n",
    "\n",
    "ALTER GROUP developers ADD USER `akshata.raghu96@gmail.com`;\n",
    "ALTER GROUP developers ADD USER `suryakakanadan@gmail.com`;\n",
    "\n",
    "\n"
   ]
  },
  {
   "cell_type": "code",
   "execution_count": 0,
   "metadata": {
    "application/vnd.databricks.v1+cell": {
     "cellMetadata": {
      "byteLimit": 2048000,
      "implicitDf": true,
      "rowLimit": 10000
     },
     "inputWidgets": {},
     "nuid": "90d840ec-8f2a-41b6-ab4a-6505cca3e0dc",
     "showTitle": false,
     "tableResultSettingsMap": {},
     "title": ""
    }
   },
   "outputs": [],
   "source": [
    "\n",
    "\n",
    "\n",
    "-- Grant access to the catalog\n",
    "GRANT USE CATALOG ON CATALOG analytics1 TO `developers`;\n",
    "\n",
    "-- Grant access to the database (schema)\n",
    "GRANT USE SCHEMA ON SCHEMA analytics1.banking TO `developers`;\n",
    "GRANT USE SCHEMA ON SCHEMA analytics1.marketdata TO `developers`;\n",
    "\n",
    "-- Grant table-level permissions (e.g., SELECT)\n",
    "-- GRANT SELECT ON TABLE analytics1.marketdata.my_table TO `developers`;\n",
    "\n"
   ]
  },
  {
   "cell_type": "code",
   "execution_count": 0,
   "metadata": {
    "application/vnd.databricks.v1+cell": {
     "cellMetadata": {},
     "inputWidgets": {},
     "nuid": "3d4541ad-d034-487c-9598-9fa2f1e8d44f",
     "showTitle": false,
     "tableResultSettingsMap": {},
     "title": ""
    }
   },
   "outputs": [],
   "source": [
    "%sql\n"
   ]
  },
  {
   "cell_type": "code",
   "execution_count": 0,
   "metadata": {
    "application/vnd.databricks.v1+cell": {
     "cellMetadata": {
      "byteLimit": 2048000,
      "implicitDf": true,
      "rowLimit": 10000
     },
     "inputWidgets": {},
     "nuid": "56a9a9c1-d0ca-44a5-b719-72562ae1beed",
     "showTitle": false,
     "tableResultSettingsMap": {},
     "title": ""
    }
   },
   "outputs": [],
   "source": [
    "%sql\n",
    "GRANT USAGE ON CATALOG \"analytics1\" TO GROUP developers"
   ]
  },
  {
   "cell_type": "code",
   "execution_count": 0,
   "metadata": {
    "application/vnd.databricks.v1+cell": {
     "cellMetadata": {},
     "inputWidgets": {},
     "nuid": "6bfe8c13-f2f9-4cef-adf5-c004183ac3c9",
     "showTitle": false,
     "tableResultSettingsMap": {},
     "title": ""
    }
   },
   "outputs": [],
   "source": [
    "%python\n",
    "GRANT USAGE ON CATALOG analytics1 TO GROUP developers;\n",
    "\n",
    "USE DATABASE banking;\n",
    "GRANT USAGE ON DATABASE banking TO GROUP developers;\n",
    "GRANT SELECT ON ALL TABLES IN SCHEMA banking TO GROUP developers;\n",
    "\n",
    "USE DATABASE marketdata;\n",
    "GRANT USAGE ON DATABASE marketdata TO GROUP developers;"
   ]
  },
  {
   "cell_type": "code",
   "execution_count": 0,
   "metadata": {
    "application/vnd.databricks.v1+cell": {
     "cellMetadata": {
      "byteLimit": 2048000,
      "rowLimit": 10000
     },
     "inputWidgets": {},
     "nuid": "22d7d757-c619-4529-bd32-a5a77fc8a1ab",
     "showTitle": false,
     "tableResultSettingsMap": {},
     "title": ""
    }
   },
   "outputs": [],
   "source": [
    "%python\n",
    "users_df = spark.sql(\"SHOW USERS\")\n",
    "display(users_df)"
   ]
  },
  {
   "cell_type": "code",
   "execution_count": 0,
   "metadata": {
    "application/vnd.databricks.v1+cell": {
     "cellMetadata": {
      "byteLimit": 2048000,
      "rowLimit": 10000
     },
     "inputWidgets": {},
     "nuid": "ccdcff0e-8f61-4524-96ef-302f986a9609",
     "showTitle": false,
     "tableResultSettingsMap": {},
     "title": ""
    }
   },
   "outputs": [],
   "source": [
    "%python\n",
    "catalogs_df = spark.sql(\"SHOW CATALOGS\")\n",
    "databases_df = spark.sql(\"SHOW DATABASES\")\n",
    "schemas_df = spark.sql(\"SHOW SCHEMAS\")\n",
    "\n",
    "display(catalogs_df)\n",
    "display(databases_df)\n",
    "display(schemas_df)"
   ]
  }
 ],
 "metadata": {
  "application/vnd.databricks.v1+notebook": {
   "computePreferences": null,
   "dashboards": [],
   "environmentMetadata": {
    "base_environment": "",
    "environment_version": "2"
   },
   "inputWidgetPreferences": null,
   "language": "sql",
   "notebookMetadata": {
    "mostRecentlyExecutedCommandWithImplicitDF": {
     "commandId": -1,
     "dataframes": [
      "_sqldf"
     ]
    },
    "pythonIndentUnit": 4
   },
   "notebookName": "Untitled Notebook 2025-07-02 14_08_25",
   "widgets": {}
  },
  "language_info": {
   "name": "sql"
  }
 },
 "nbformat": 4,
 "nbformat_minor": 0
}
