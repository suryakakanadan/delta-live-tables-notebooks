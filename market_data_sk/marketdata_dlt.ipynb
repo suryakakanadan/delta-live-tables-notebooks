{
 "cells": [
  {
   "cell_type": "code",
   "execution_count": 0,
   "metadata": {
    "application/vnd.databricks.v1+cell": {
     "cellMetadata": {
      "byteLimit": 2048000,
      "rowLimit": 10000
     },
     "inputWidgets": {},
     "nuid": "741704c7-7699-41bd-a5b6-8daa1f68b20f",
     "showTitle": false,
     "tableResultSettingsMap": {},
     "title": ""
    }
   },
   "outputs": [],
   "source": [
    "import dlt\n",
    "from pyspark.sql.functions import *\n",
    "from pyspark.sql.types import StructType, StructField, StringType, DoubleType, IntegerType, LongType\n",
    "topic = \"market_data\"\n",
    "\n",
    "# Kafka configuration\n",
    "kafka_bootstrap_servers_tls = \"pkc-ldvj1.ap-southeast-2.aws.confluent.cloud:9092\"\n",
    "kafka_security_protocol = \"SASL_SSL\"\n",
    "kafka_sasl_mechanism = \"PLAIN\"\n",
    "kafka_username = dbutils.secrets.get(scope=\"kafka-secrets\", key=\"kafka-username\")\n",
    "kafka_password = dbutils.secrets.get(scope=\"kafka-secrets\", key=\"kafka-password\")\n",
    "kafka_sasl_jaas_config=f'kafkashaded.org.apache.kafka.common.security.plain.PlainLoginModule required username=\"{kafka_username}\" password=\"{kafka_password}\";'\n",
    "\n",
    "input_schema = StructType([\n",
    "    StructField(\"symbol\", StringType(), True),\n",
    "    StructField(\"price\", DoubleType(), True),\n",
    "    StructField(\"volume\", IntegerType(), True),\n",
    "    StructField(\"timestamp\", LongType(), True)\n",
    "])\n",
    "\n",
    "@dlt.table\n",
    "def market_data_l():\n",
    "    return (\n",
    "    (spark.readStream\n",
    "    .format(\"kafka\")\n",
    "    .option(\"subscribe\", topic)\n",
    "    .option(\"kafka.bootstrap.servers\", kafka_bootstrap_servers_tls)\n",
    "    .option(\"kafka.security.protocol\", \"SASL_SSL\")\n",
    "    .option(\"kafka.sasl.mechanism\", \"PLAIN\")\n",
    "    .option(\"kafka.sasl.jaas.config\", f'kafkashaded.org.apache.kafka.common.security.plain.PlainLoginModule required username=\"{kafka_username}\" password=\"{kafka_password}\";')\n",
    "    .option(\"startingOffsets\", \"earliest\")\n",
    "    .load()).select(col(\"key\").cast(\"string\").alias(\"id\"), from_json(col(\"value\").cast(\"string\"), input_schema).alias(\"json\"))\n",
    "  )"
   ]
  },
  {
   "cell_type": "code",
   "execution_count": 0,
   "metadata": {
    "application/vnd.databricks.v1+cell": {
     "cellMetadata": {},
     "inputWidgets": {},
     "nuid": "46857f61-7c0f-4e59-aa9d-79728b25a407",
     "showTitle": false,
     "tableResultSettingsMap": {},
     "title": ""
    }
   },
   "outputs": [],
   "source": [
    "@dlt.table\n",
    "def market_data_silver():\n",
    "    df = dlt.read(\"market_data_l\")\n",
    "    return df.select(\n",
    "        col(\"id\"),\n",
    "        col(\"json.symbol\").alias(\"symbol\"),\n",
    "        col(\"json.price\").alias(\"price\"),\n",
    "        col(\"json.volume\").alias(\"volume\"),\n",
    "        from_unixtime(col(\"json.timestamp\")).alias(\"timestamp\")\n",
    "    )"
   ]
  },
  {
   "cell_type": "code",
   "execution_count": 0,
   "metadata": {
    "application/vnd.databricks.v1+cell": {
     "cellMetadata": {},
     "inputWidgets": {},
     "nuid": "cc9c4af1-4fbd-4a4b-8376-13ce79953aab",
     "showTitle": false,
     "tableResultSettingsMap": {},
     "title": ""
    }
   },
   "outputs": [],
   "source": [
    "from pyspark.sql.window import Window\n",
    "from pyspark.sql.functions import col, row_number\n",
    "\n",
    "@dlt.table\n",
    "def market_data_gold():\n",
    "    df = dlt.read(\"market_data_silver\")\n",
    "    window_spec = Window.partitionBy(\"symbol\").orderBy(col(\"timestamp\").desc()).rowsBetween(Window.unboundedPreceding, Window.currentRow)\n",
    "    \n",
    "    return df.withColumn(\"row_number\", row_number().over(window_spec)) \\\n",
    "             .filter(col(\"row_number\") <= 10) \\\n",
    "             .groupBy(\"symbol\") \\\n",
    "             .agg(\n",
    "                 max(\"price\").alias(\"highest_price\"),\n",
    "                 min(\"price\").alias(\"lowest_price\")\n",
    "             )"
   ]
  }
 ],
 "metadata": {
  "application/vnd.databricks.v1+notebook": {
   "computePreferences": null,
   "dashboards": [],
   "environmentMetadata": {
    "base_environment": "",
    "environment_version": "2"
   },
   "inputWidgetPreferences": null,
   "language": "python",
   "notebookMetadata": {
    "pythonIndentUnit": 4
   },
   "notebookName": "marketdata_dlt",
   "widgets": {}
  },
  "language_info": {
   "name": "python"
  }
 },
 "nbformat": 4,
 "nbformat_minor": 0
}
